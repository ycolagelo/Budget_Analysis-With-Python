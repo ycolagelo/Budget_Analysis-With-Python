{
 "cells": [
  {
   "cell_type": "code",
   "execution_count": 3,
   "id": "0322beb4-5952-4255-8d90-09f09353ac8b",
   "metadata": {},
   "outputs": [],
   "source": [
    " #importing the pathlib and csv library\n",
    "from pathlib import Path"
   ]
  },
  {
   "cell_type": "code",
   "execution_count": 15,
   "id": "8bbee193-9d7e-4b47-afe4-39059383621f",
   "metadata": {},
   "outputs": [],
   "source": [
    "import csv"
   ]
  },
  {
   "cell_type": "code",
   "execution_count": 32,
   "id": "bd1b831f-b566-4ade-bae0-f62cf59c9cd9",
   "metadata": {},
   "outputs": [
    {
     "name": "stdout",
     "output_type": "stream",
     "text": [
      "Total Months : 86\n",
      "Total: 38382578\n",
      "Average Change : $-2315.12\n",
      "Greatest Increase in Profit: Feb-2012 ($1926159)\n",
      "Greatest Decrease in Profits: Sep-2013 ($-2196167)\n"
     ]
    }
   ],
   "source": [
    "#set the file path\n",
    "csvpath = Path(\"C:/Users/Yvonne Colangelo/Downloads/budget_data.csv\")\n",
    "\n",
    "#initialize a list that will hold months, revenue and a count variable for the number of months.\n",
    "months=[]\n",
    "revenue=[]\n",
    "count = 0\n",
    "total = 0\n",
    "current_change = 0\n",
    "changes=[]\n",
    "greatest_profit = 0\n",
    "greatest_loss = 0\n",
    "new_count = 0\n",
    "average_change = 0\n",
    "   \n",
    "\n",
    "    \n",
    "\n",
    "#open the csv file as an object\n",
    "#pass in the csv file to the csv.reader() function\n",
    "#(with ',' as the delimiter/separator) and return the csvreader object\n",
    "with open (csvpath, \"r\") as csvfile:\n",
    "    \n",
    "    csvreader = csv.reader(csvfile, delimiter = \",\")\n",
    "    #initialize the csv header to help loop through the list and skip the header.  \n",
    "    csv_header = next(csvreader)\n",
    "   \n",
    "   \n",
    "    \n",
    "    #Iterate through the rows in csvreader \n",
    "    #Assign the first row(list) to month and the second row(list) to profit_losses\n",
    "    #Append to month and revenue for iteration. \n",
    "    for row in csvreader:\n",
    "        #print(row)\n",
    "        month = row[0]\n",
    "        #print(month)\n",
    "        profit_losses = int(row[1])\n",
    "        months.append(month)\n",
    "        revenue.append(profit_losses)\n",
    "       \n",
    "        # Get the length of month(list) for how many month are in the list\n",
    "        count = len(months)\n",
    "        \n",
    "    #The next block of code is getting the average change in profit/losses over time              \n",
    "    #To do this we are going to iterate through the revenue and getting the difference in revenue from month to month\n",
    "    #In order to get the difference we assign assign the previous revenue \n",
    "    #We then iterate through revenue and get the differnce between the current profit or loss and the previous on\n",
    "    #We then append the list of differences to a list called changes.\n",
    "    \n",
    "    previous_rev = revenue[0]\n",
    "    for profit_loss in revenue:\n",
    "        \n",
    "        total +=profit_loss\n",
    "        current_change = profit_loss - previous_rev\n",
    "        previous_rev = profit_loss\n",
    "        changes.append(current_change)\n",
    "        \n",
    "        \n",
    "    #We then iterate through the list of chnages adding them together and dividing them with the number of months \n",
    "    #The first month is subtracted as its not considered for changes\n",
    "    #We round to the float to the second decimal place to get the answer\n",
    "    for change in changes:\n",
    "        new_count += change\n",
    "        average_change = round(new_count/(count-1), 2)\n",
    "        \n",
    "    \n",
    "    #This block of code is for getting the greatest increase/decrease and the dates they occured\n",
    "    #For this we get the maximum and minimum value in the list\n",
    "    #We then use the index of the minimum/maximum value of the list to map out the index of the date they occured. \n",
    "    greatest_profit = max(changes)\n",
    "    greatest_loss = min(changes)\n",
    "    \n",
    "    index = changes.index(greatest_profit)\n",
    "    #print(index)\n",
    "    index_two = changes.index(greatest_loss)\n",
    "   \n",
    "    \n",
    "    greatest_profit_date = months[index]\n",
    "    greatest_loss_date = months[index_two]\n",
    "   \n",
    "    print(f\"Total Months : {count}\")\n",
    "    print(f\"Total: {total}\")\n",
    "    print(f\"Average Change : ${average_change}\")  \n",
    "    print(f\"Greatest Increase in Profit: {greatest_profit_date} (${greatest_profit})\")\n",
    "    print(f\"Greatest Decrease in Profits: {greatest_loss_date} (${greatest_loss})\")\n",
    "    \n",
    "  \n",
    "    \n",
    "        \n",
    "    "
   ]
  },
  {
   "cell_type": "code",
   "execution_count": null,
   "id": "3287c679-cab4-4965-aabe-ed1b4cdfa389",
   "metadata": {},
   "outputs": [],
   "source": []
  }
 ],
 "metadata": {
  "kernelspec": {
   "display_name": "Python 3 (ipykernel)",
   "language": "python",
   "name": "python3"
  },
  "language_info": {
   "codemirror_mode": {
    "name": "ipython",
    "version": 3
   },
   "file_extension": ".py",
   "mimetype": "text/x-python",
   "name": "python",
   "nbconvert_exporter": "python",
   "pygments_lexer": "ipython3",
   "version": "3.9.13"
  }
 },
 "nbformat": 4,
 "nbformat_minor": 5
}
