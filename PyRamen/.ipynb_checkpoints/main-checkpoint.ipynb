{
 "cells": [
  {
   "cell_type": "code",
   "execution_count": 4,
   "id": "cf047157-a858-4307-8578-05919e699c8b",
   "metadata": {},
   "outputs": [],
   "source": [
    "from pathlib import Path\n",
    "import csv\n",
    "import sys\n",
    "import import_ipynb\n",
    "import helper\n",
    "import pandas as pd"
   ]
  },
  {
   "cell_type": "code",
   "execution_count": 14,
   "id": "d840c4f7-f01c-4631-86cb-6e2cf4bef3e9",
   "metadata": {},
   "outputs": [
    {
     "name": "stdout",
     "output_type": "stream",
     "text": [
      "Index(['item', 'category', 'description', 'price', 'cost'], dtype='object')\n"
     ]
    }
   ],
   "source": [
    "csvpath_one = r\"C:/Users/Yvonne Colangelo/Downloads/Starter_Code/Instructions/PyRamen/Resources/menu_data.csv\"\n",
    "menu_data = pd.read_csv(csvpath_one)\n",
    "\n",
    "menu_data.head()\n",
    "\n",
    "\n",
    "#csvpath_two = r\"C:/Users/Yvonne Colangelo/Downloads/Starter_Code/Instructions/PyRamen/Resources/sales_data.csv\"\n",
    "        \n",
    "print(menu_data.columns)\n"
   ]
  },
  {
   "cell_type": "code",
   "execution_count": 18,
   "id": "bd3d4137-861d-4a97-9db1-ceebd53d9611",
   "metadata": {},
   "outputs": [
    {
     "name": "stdout",
     "output_type": "stream",
     "text": [
      "[0                                            edamame\n",
      "1                                        house salad\n",
      "2                            cucumber sunomono salad\n",
      "3                       hiyashi wakame seaweed salad\n",
      "4                                      agedashi tofu\n",
      "5                                     hiyayakko tofu\n",
      "6                                     pork floss bao\n",
      "7                                         kakuni bao\n",
      "8                        edamame fried gyoza (vegan)\n",
      "9                                        fried gyoza\n",
      "10                                          takoyaki\n",
      "11                               rock shrimp tempura\n",
      "12                           soft-shell crab tempura\n",
      "13                              ebi katsu shrimp bao\n",
      "14                                      nagomi shoyu\n",
      "15                                        shio ramen\n",
      "16                                  spicy miso ramen\n",
      "17                             vegetarian spicy miso\n",
      "18                                   miso crab ramen\n",
      "19                        soft-shell miso crab ramen\n",
      "20                                 tori paitan ramen\n",
      "21                                    tonkotsu ramen\n",
      "22                       burnt garlic tonkotsu ramen\n",
      "23    vegetarian curry + king trumpet mushroom ramen\n",
      "24                              truffle butter ramen\n",
      "25                                         green tea\n",
      "26                                              coke\n",
      "27                            black sesame ice cream\n",
      "28                                  matcha ice cream\n",
      "29                             mango mochi ice cream\n",
      "30                        strawberry mochi ice cream\n",
      "31                         black sesame creme brulee\n",
      "Name: item, dtype: object]\n"
     ]
    }
   ],
   "source": [
    "menu = [[menu_data['item']], [menu_data['category']], [menu_data['description']], [menu_data['price']], [menu_data['cost']]]\n",
    "\n",
    "print(menu[0])"
   ]
  },
  {
   "cell_type": "code",
   "execution_count": 20,
   "id": "a51278ec-57e0-41f1-91a7-4ee577936e8c",
   "metadata": {},
   "outputs": [
    {
     "name": "stdout",
     "output_type": "stream",
     "text": [
      "Index(['Line_Item_ID', 'Date', 'Credit_Card_Number', 'Quantity', 'Menu_Item'], dtype='object')\n"
     ]
    }
   ],
   "source": [
    "csvpath_two = r\"C:/Users/Yvonne Colangelo/Downloads/Starter_Code/Instructions/PyRamen/Resources/sales_data.csv\"\n",
    "sales = pd.read_csv(csvpath_two)\n",
    "print(sales.columns)"
   ]
  },
  {
   "cell_type": "code",
   "execution_count": 21,
   "id": "fa52cf40-73c1-4581-84dd-15dabc2ca8d8",
   "metadata": {},
   "outputs": [
    {
     "name": "stdout",
     "output_type": "stream",
     "text": [
      "0        1\n",
      "1        1\n",
      "2        3\n",
      "3        3\n",
      "4        1\n",
      "        ..\n",
      "74119    4\n",
      "74120    1\n",
      "74121    1\n",
      "74122    2\n",
      "74123    2\n",
      "Name: Quantity, Length: 74124, dtype: int64\n"
     ]
    }
   ],
   "source": [
    "report= {}\n",
    "quantity = sales['Quantity']\n"
   ]
  },
  {
   "cell_type": "code",
   "execution_count": 42,
   "id": "f8d4c6aa-302b-48d0-9752-2fa9a7281eee",
   "metadata": {},
   "outputs": [
    {
     "data": {
      "text/plain": [
       "0                                   spicy miso ramen\n",
       "2                                  tori paitan ramen\n",
       "4                               truffle butter ramen\n",
       "6                                     tonkotsu ramen\n",
       "8                              vegetarian spicy miso\n",
       "10                                        shio ramen\n",
       "34                                   miso crab ramen\n",
       "38                                      nagomi shoyu\n",
       "48                        soft-shell miso crab ramen\n",
       "66                       burnt garlic tonkotsu ramen\n",
       "92    vegetarian curry + king trumpet mushroom ramen\n",
       "Name: Menu_Item, dtype: object"
      ]
     },
     "execution_count": 42,
     "metadata": {},
     "output_type": "execute_result"
    }
   ],
   "source": [
    "sales['Menu_Item'].drop_duplicates()"
   ]
  },
  {
   "cell_type": "code",
   "execution_count": null,
   "id": "334be5ae-3954-4fb7-8e74-62df1aa12dcb",
   "metadata": {},
   "outputs": [],
   "source": [
    "report={}\n",
    "\n",
    "quantity = 0\n",
    "my_items = sales['Menu_Item'].drop_duplicates()\n",
    "\n",
    "\n",
    "for row in sales:\n",
    "    for item in sales['Menu_Item']:\n",
    "        for instance in my_items:\n",
    "            if item == instance:       \n",
    "                report =['01-count'] = quantity + sales['Quantity']\n",
    "                quantity = sales['Quantity']\n",
    "            \n",
    "                \n",
    "        \n",
    "print(report)       "
   ]
  },
  {
   "cell_type": "code",
   "execution_count": null,
   "id": "da6d9558-e954-44df-afb2-b4882f164a8d",
   "metadata": {},
   "outputs": [],
   "source": []
  },
  {
   "cell_type": "code",
   "execution_count": null,
   "id": "096660bc-bb24-44b2-8ff6-1dd35c01b649",
   "metadata": {},
   "outputs": [],
   "source": []
  }
 ],
 "metadata": {
  "kernelspec": {
   "display_name": "Python 3 (ipykernel)",
   "language": "python",
   "name": "python3"
  },
  "language_info": {
   "codemirror_mode": {
    "name": "ipython",
    "version": 3
   },
   "file_extension": ".py",
   "mimetype": "text/x-python",
   "name": "python",
   "nbconvert_exporter": "python",
   "pygments_lexer": "ipython3",
   "version": "3.9.13"
  }
 },
 "nbformat": 4,
 "nbformat_minor": 5
}
