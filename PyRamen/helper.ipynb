{
 "cells": [
  {
   "cell_type": "code",
   "execution_count": 1,
   "id": "95d08bc1-c675-41f6-8324-27b31d8913f2",
   "metadata": {},
   "outputs": [],
   "source": [
    "def make_list(reader, item1, item2, item3, item4, item5, firstItem, secondItem, thirdItem, fourthItem, fifthItem):\n",
    "\n",
    "    for row in reader:\n",
    "        item1 = row[0]\n",
    "        item2 = row[1]\n",
    "        item3 = row[2]\n",
    "        item4 = row[3]\n",
    "        item5 = row[4]\n",
    "        firstItem.append(item1)\n",
    "        secondItem.append(item2)\n",
    "        thirdItem.append(item3)\n",
    "        fourthItem.append(item4)\n",
    "        fifthItem.append(item5)\n",
    "            \n",
    "        #return firstItem, secondItem, thirdItem, fourthItem, fifthItem\n",
    "    \n",
    "        \n",
    "\n",
    "     "
   ]
  },
  {
   "cell_type": "code",
   "execution_count": null,
   "id": "abfd86a9-c148-4a24-b65e-b4caecd90c59",
   "metadata": {},
   "outputs": [],
   "source": []
  },
  {
   "cell_type": "code",
   "execution_count": null,
   "id": "af629463-1809-498d-a193-04b4fcfe145d",
   "metadata": {},
   "outputs": [],
   "source": []
  }
 ],
 "metadata": {
  "kernelspec": {
   "display_name": "Python 3 (ipykernel)",
   "language": "python",
   "name": "python3"
  },
  "language_info": {
   "codemirror_mode": {
    "name": "ipython",
    "version": 3
   },
   "file_extension": ".py",
   "mimetype": "text/x-python",
   "name": "python",
   "nbconvert_exporter": "python",
   "pygments_lexer": "ipython3",
   "version": "3.9.13"
  }
 },
 "nbformat": 4,
 "nbformat_minor": 5
}
